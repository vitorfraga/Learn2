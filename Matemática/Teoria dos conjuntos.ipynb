{
 "cells": [
  {
   "cell_type": "markdown",
   "metadata": {},
   "source": [
    "### Teoria dos conjuntos\n",
    "----------\n",
    "Conceito:\n",
    "\n",
    "Um conjunto é uma coleção de itens\n",
    "\n",
    "Veja um conjunto sendo representado através de um diagrama.\n",
    "A letra **A** representa o nome do conjunto, lembrando que o nome do conjunto sempre estará em letras maiúsculas.\n",
    "\n",
    "------Inserir uma imagem ilustrativa------\n",
    "\n",
    "Que também pode ser representado desta forma entre chaves e separado por virgulas.\n",
    "\n",
    "**A** = {Quadradinho, Triangulo, bolinha}\n",
    "\n",
    "Observe agora outras forma de se representar um conjunto. Para melhor compreensão usarei um conjunto formado por vogais.\n",
    "\n",
    " 1. Diagrama de Venn \n",
    " \n",
    "---------Inserir uma imagem ilustrativa----------\n",
    "\n",
    " 2.  Por extensão\n",
    " \n",
    "\t   **A** = {a,e,i,o,u}\n",
    "\t  \n",
    " 3. Por compreensão\n",
    " \n",
    "\t **A** = {x/x é vogal}\n",
    "\t \n",
    "\t *Explicando :  ( x/x -> conjunto)  (/ -> \"Tal que\") (Vogal -> característica)\n",
    "\t   *Como se lê esta expressão?* Tal que X são vogais\n",
    "\t   "
   ]
  },
  {
   "cell_type": "code",
   "execution_count": null,
   "metadata": {
    "collapsed": true
   },
   "outputs": [],
   "source": []
  }
 ],
 "metadata": {
  "kernelspec": {
   "display_name": "Python 3",
   "language": "python",
   "name": "python3"
  },
  "language_info": {
   "codemirror_mode": {
    "name": "ipython",
    "version": 3
   },
   "file_extension": ".py",
   "mimetype": "text/x-python",
   "name": "python",
   "nbconvert_exporter": "python",
   "pygments_lexer": "ipython3",
   "version": "3.6.1"
  }
 },
 "nbformat": 4,
 "nbformat_minor": 2
}
