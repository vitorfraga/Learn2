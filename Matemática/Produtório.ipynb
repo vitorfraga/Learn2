{
 "cells": [
  {
   "cell_type": "markdown",
   "metadata": {},
   "source": [
    "# Produtório\n",
    "Assim como um somatório, um produtório é um operador matemático que iterativamente realiza a multiplicação de seus operandos.\n",
    "![enter image description here](https://raw.githubusercontent.com/vitorfraga/Learn2/master/Matem%C3%A1tica/imagens/Produt%C3%B3rio.PNG)\n",
    "\n",
    "- ****\n",
    "- **N** É nosso limite superior (Incluso)\n",
    "- **i=1** É nosso index e nosso limite inferior (Incluso)\n",
    "- **1** É nosso operando\n",
    "\n",
    "Vale lembrar que em Python nosso limite superior é excluso e por isso somamos **N+1**\n",
    "\n",
    "Exemplo de código:\n"
   ]
  },
  {
   "cell_type": "code",
   "execution_count": 3,
   "metadata": {},
   "outputs": [
    {
     "name": "stdout",
     "output_type": "stream",
     "text": [
      "1\n"
     ]
    }
   ],
   "source": [
    "produto = 1 #inicia a variável que multiplica em 1\n",
    "operando = 1 #Operando\n",
    "i = 1 #Limite inferior \n",
    "N = 5 #Limite superior, vamos dar o valor de 5 para fins didáticos \n",
    "\n",
    "for index in range(i,N+1):\n",
    "    produto *= operando\n",
    "    \n",
    "print(produto)\n"
   ]
  },
  {
   "cell_type": "code",
   "execution_count": null,
   "metadata": {},
   "outputs": [],
   "source": []
  }
 ],
 "metadata": {
  "kernelspec": {
   "display_name": "Python 3",
   "language": "python",
   "name": "python3"
  },
  "language_info": {
   "codemirror_mode": {
    "name": "ipython",
    "version": 3
   },
   "file_extension": ".py",
   "mimetype": "text/x-python",
   "name": "python",
   "nbconvert_exporter": "python",
   "pygments_lexer": "ipython3",
   "version": "3.6.4"
  }
 },
 "nbformat": 4,
 "nbformat_minor": 2
}
