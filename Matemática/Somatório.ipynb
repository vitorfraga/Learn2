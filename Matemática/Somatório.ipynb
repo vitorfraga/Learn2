{
 "cells": [
  {
   "cell_type": "markdown",
   "metadata": {},
   "source": [
    "# Somatório\n",
    "Um somatório é um operador matemático que iterativamente realiza uma soma sobre seus operandos. \n",
    "A sua notação matemática é:\n",
    "\n",
    "\n",
    "![enter image description here](https://raw.githubusercontent.com/vitorfraga/Learn2/master/Matem%C3%A1tica/imagens/somat%C3%B3rio.PNG)\n",
    "\n",
    "\n",
    "- O **E** é o simbolo que soma\n",
    "- **N** é  nosso limite superior (Incluso).\n",
    "- **i = 1** é nosso indexador e limite inferior (Incluso)\n",
    "- **1** é nosso operando, ou seja, o numero que será somado em cada iteração na soma.\n",
    "\n",
    "Vale lembrar que em **python** o limite superior é excluso, portanto deve-se somar **N+1**\n",
    "\n",
    "Exemplo de código:\n"
   ]
  },
  {
   "cell_type": "code",
   "execution_count": 20,
   "metadata": {},
   "outputs": [
    {
     "name": "stdout",
     "output_type": "stream",
     "text": [
      "5\n"
     ]
    }
   ],
   "source": [
    "soma = 0 #inicia a variável de soma em 0\n",
    "operando = 1 #Operando\n",
    "i = 1 #Limite inferior \n",
    "N = 5 #Limite superior, vamos dar o valor de 5 para fins didáticos \n",
    "\n",
    "for index in range(i,N+1):\n",
    "    soma += operando\n",
    "    \n",
    "print(soma)"
   ]
  }
 ],
 "metadata": {
  "kernelspec": {
   "display_name": "Python 3",
   "language": "python",
   "name": "python3"
  },
  "language_info": {
   "codemirror_mode": {
    "name": "ipython",
    "version": 3
   },
   "file_extension": ".py",
   "mimetype": "text/x-python",
   "name": "python",
   "nbconvert_exporter": "python",
   "pygments_lexer": "ipython3",
   "version": "3.6.4"
  }
 },
 "nbformat": 4,
 "nbformat_minor": 2
}
